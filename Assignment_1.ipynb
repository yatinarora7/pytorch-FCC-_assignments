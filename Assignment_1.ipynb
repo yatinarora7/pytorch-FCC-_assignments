{
  "nbformat": 4,
  "nbformat_minor": 0,
  "metadata": {
    "kernelspec": {
      "display_name": "Python 3",
      "language": "python",
      "name": "python3"
    },
    "language_info": {
      "codemirror_mode": {
        "name": "ipython",
        "version": 3
      },
      "file_extension": ".py",
      "mimetype": "text/x-python",
      "name": "python",
      "nbconvert_exporter": "python",
      "pygments_lexer": "ipython3",
      "version": "3.7.6"
    },
    "colab": {
      "name": "Assignment_1.ipynb",
      "provenance": []
    }
  },
  "cells": [
    {
      "cell_type": "markdown",
      "metadata": {
        "id": "cexFe5M5qT0x",
        "colab_type": "text"
      },
      "source": [
        "# Pytorch Tensor Funtions\n",
        "### Created by Yatin arora\n",
        "\n",
        "An Introduction to Pytorch\n",
        "PyTorch is an open source machine learning library based on the Torch library,used for applications such as computer vision and natural language processing, primarily developed by Facebook's AI Research lab.\n",
        "Pytorch contains a datatype called as 'Tensor'(torch.Tensor) which is a special array. A Tensor is capable of storing both a scalar value and a multidimentional matrix with same data-type. A Tensor can be created from python Data types and can be converted back. In addition these tensors can be used to perform special inbuild functions and mathematical operation. Note: A Tensor is capable of storing matrices beyond 3D\n",
        "\n",
        "\n",
        "## Functions we are going to discuss today are:-\n",
        "- torch.squeeze(unsqueeze)\n",
        "- torch.mul\n",
        "- torch.arrange\n",
        "- torch.linspace\n",
        "- torch.mean"
      ]
    },
    {
      "cell_type": "code",
      "metadata": {
        "id": "8G46Y_0kqT01",
        "colab_type": "code",
        "colab": {}
      },
      "source": [
        "# Import torch and other required modules\n",
        "import torch"
      ],
      "execution_count": 0,
      "outputs": []
    },
    {
      "cell_type": "markdown",
      "metadata": {
        "id": "Di8GO-8wqT1A",
        "colab_type": "text"
      },
      "source": [
        "## Function 1 - torch.squeeze\n",
        "\n",
        "Returns a tensor with all the dimensions of input of size 1 removed.\n",
        "\n",
        "For example, if input is of shape: (A \\times 1 \\times B \\times C \\times 1 \\times D)(A×1×B×C×1×D) then the out tensor will be of shape: (A \\times B \\times C \\times D)(A×B×C×D) .\n",
        "\n",
        "When dim is given, a squeeze operation is done only in the given dimension. If input is of shape: (A \\times 1 \\times B)(A×1×B) , squeeze(input, 0) leaves the tensor unchanged, but squeeze(input, 1) will squeeze the tensor to the shape (A \\times B)(A×B) ."
      ]
    },
    {
      "cell_type": "code",
      "metadata": {
        "id": "OJCjQynMqT1C",
        "colab_type": "code",
        "outputId": "da20345e-11eb-4185-ae1d-edb01aaaa7ff",
        "colab": {
          "base_uri": "https://localhost:8080/",
          "height": 34
        }
      },
      "source": [
        "# Example 1 - working \n",
        "x = torch.zeros(2,1,2,1,2)\n",
        "x.size()"
      ],
      "execution_count": 0,
      "outputs": [
        {
          "output_type": "execute_result",
          "data": {
            "text/plain": [
              "torch.Size([2, 1, 2, 1, 2])"
            ]
          },
          "metadata": {
            "tags": []
          },
          "execution_count": 3
        }
      ]
    },
    {
      "cell_type": "code",
      "metadata": {
        "id": "58Z4_mzlsHzj",
        "colab_type": "code",
        "outputId": "1e797ec8-db7e-45e0-cef7-8bb529dee884",
        "colab": {
          "base_uri": "https://localhost:8080/",
          "height": 34
        }
      },
      "source": [
        "y=torch.squeeze(x)\n",
        "y.size()"
      ],
      "execution_count": 0,
      "outputs": [
        {
          "output_type": "execute_result",
          "data": {
            "text/plain": [
              "torch.Size([2, 2, 2])"
            ]
          },
          "metadata": {
            "tags": []
          },
          "execution_count": 5
        }
      ]
    },
    {
      "cell_type": "markdown",
      "metadata": {
        "id": "N_0S-_mxqT1N",
        "colab_type": "text"
      },
      "source": [
        "as you can see when we squeeze the tensor x its output does not contain 1's"
      ]
    },
    {
      "cell_type": "code",
      "metadata": {
        "id": "Dxy_LgMWqT1P",
        "colab_type": "code",
        "outputId": "073aad65-6bf1-4d1f-d611-8101aacc6f96",
        "colab": {
          "base_uri": "https://localhost:8080/",
          "height": 34
        }
      },
      "source": [
        "# Example 2 - working (unsqueeze)\n",
        "y = torch.squeeze(x,0)\n",
        "y.size()"
      ],
      "execution_count": 0,
      "outputs": [
        {
          "output_type": "execute_result",
          "data": {
            "text/plain": [
              "torch.Size([2, 1, 2, 1, 2])"
            ]
          },
          "metadata": {
            "tags": []
          },
          "execution_count": 11
        }
      ]
    },
    {
      "cell_type": "markdown",
      "metadata": {
        "id": "VrFy4bBMqT1W",
        "colab_type": "text"
      },
      "source": [
        "this is an example of how to unsqueeze"
      ]
    },
    {
      "cell_type": "code",
      "metadata": {
        "id": "SgSP8aOSqT1Y",
        "colab_type": "code",
        "outputId": "bc86402c-269f-49f0-8d7d-a522e2b77e6a",
        "colab": {
          "base_uri": "https://localhost:8080/",
          "height": 180
        }
      },
      "source": [
        "# Example 3 - breaking (to illustrate when it breaks)\n",
        "y = torch.squeeze(x,5)"
      ],
      "execution_count": 0,
      "outputs": [
        {
          "output_type": "error",
          "ename": "IndexError",
          "evalue": "ignored",
          "traceback": [
            "\u001b[0;31m---------------------------------------------------------------------------\u001b[0m",
            "\u001b[0;31mIndexError\u001b[0m                                Traceback (most recent call last)",
            "\u001b[0;32m<ipython-input-12-fdc8af18445b>\u001b[0m in \u001b[0;36m<module>\u001b[0;34m()\u001b[0m\n\u001b[1;32m      1\u001b[0m \u001b[0;31m# Example 3 - breaking (to illustrate when it breaks)\u001b[0m\u001b[0;34m\u001b[0m\u001b[0;34m\u001b[0m\u001b[0;34m\u001b[0m\u001b[0m\n\u001b[0;32m----> 2\u001b[0;31m \u001b[0my\u001b[0m \u001b[0;34m=\u001b[0m \u001b[0mtorch\u001b[0m\u001b[0;34m.\u001b[0m\u001b[0msqueeze\u001b[0m\u001b[0;34m(\u001b[0m\u001b[0mx\u001b[0m\u001b[0;34m,\u001b[0m\u001b[0;36m5\u001b[0m\u001b[0;34m)\u001b[0m\u001b[0;34m\u001b[0m\u001b[0;34m\u001b[0m\u001b[0m\n\u001b[0m",
            "\u001b[0;31mIndexError\u001b[0m: Dimension out of range (expected to be in range of [-5, 4], but got 5)"
          ]
        }
      ]
    },
    {
      "cell_type": "markdown",
      "metadata": {
        "id": "TM2MwBexqT1g",
        "colab_type": "text"
      },
      "source": [
        "the cell shows an error because there is no 1 present at 5th position"
      ]
    },
    {
      "cell_type": "markdown",
      "metadata": {
        "id": "fciSTZ5MqT1h",
        "colab_type": "text"
      },
      "source": [
        "Closing comments about when to use this function"
      ]
    },
    {
      "cell_type": "markdown",
      "metadata": {
        "id": "Xy7uDnZmqT1j",
        "colab_type": "text"
      },
      "source": [
        "## Function 2 - torch.mul\n",
        "\n",
        "Multiplies each element of the input input with the scalar other and returns a new resulting tensor.\n",
        "\n",
        " \n",
        "If input is of type FloatTensor or DoubleTensor, other should be a real number, otherwise it should be an integer"
      ]
    },
    {
      "cell_type": "code",
      "metadata": {
        "id": "JWD-mE0pqT1k",
        "colab_type": "code",
        "outputId": "984eb580-9078-4834-bedf-8895ff613875",
        "colab": {
          "base_uri": "https://localhost:8080/",
          "height": 34
        }
      },
      "source": [
        "# Example 1 - working\n",
        "a= torch.randn(3)\n",
        "a"
      ],
      "execution_count": 0,
      "outputs": [
        {
          "output_type": "execute_result",
          "data": {
            "text/plain": [
              "tensor([ 0.7122, -0.9577,  1.4390])"
            ]
          },
          "metadata": {
            "tags": []
          },
          "execution_count": 14
        }
      ]
    },
    {
      "cell_type": "code",
      "metadata": {
        "id": "vJNAGfpUvJ5P",
        "colab_type": "code",
        "outputId": "30757dc5-f5a7-416f-c97e-68c3ae36fff5",
        "colab": {
          "base_uri": "https://localhost:8080/",
          "height": 34
        }
      },
      "source": [
        "torch.mul(a, 100)"
      ],
      "execution_count": 0,
      "outputs": [
        {
          "output_type": "execute_result",
          "data": {
            "text/plain": [
              "tensor([ 71.2215, -95.7686, 143.9049])"
            ]
          },
          "metadata": {
            "tags": []
          },
          "execution_count": 15
        }
      ]
    },
    {
      "cell_type": "markdown",
      "metadata": {
        "id": "TkdmuQA4qT1t",
        "colab_type": "text"
      },
      "source": [
        "all elements  of a are multiplied by 100"
      ]
    },
    {
      "cell_type": "code",
      "metadata": {
        "id": "VLFxYxVEqT1v",
        "colab_type": "code",
        "outputId": "ce677ab7-3dbc-48c0-a856-ce12153f0485",
        "colab": {
          "base_uri": "https://localhost:8080/",
          "height": 85
        }
      },
      "source": [
        "# Example 2 - working\n",
        "a = torch.randn(4, 1) \n",
        "a"
      ],
      "execution_count": 0,
      "outputs": [
        {
          "output_type": "execute_result",
          "data": {
            "text/plain": [
              "tensor([[-1.4563],\n",
              "        [-1.0670],\n",
              "        [-1.4176],\n",
              "        [-0.5990]])"
            ]
          },
          "metadata": {
            "tags": []
          },
          "execution_count": 16
        }
      ]
    },
    {
      "cell_type": "code",
      "metadata": {
        "id": "PtBQGpPtvo8d",
        "colab_type": "code",
        "outputId": "92d4dcbf-ca92-4850-b12e-985639691f0f",
        "colab": {
          "base_uri": "https://localhost:8080/",
          "height": 34
        }
      },
      "source": [
        "b = torch.randn(1, 4)\n",
        "b"
      ],
      "execution_count": 0,
      "outputs": [
        {
          "output_type": "execute_result",
          "data": {
            "text/plain": [
              "tensor([[-0.1693,  0.3994, -0.3098, -0.1606]])"
            ]
          },
          "metadata": {
            "tags": []
          },
          "execution_count": 17
        }
      ]
    },
    {
      "cell_type": "code",
      "metadata": {
        "id": "ykgTT7R-vvfd",
        "colab_type": "code",
        "outputId": "7d73b2fe-ceac-4b69-a907-b0462696ffa3",
        "colab": {
          "base_uri": "https://localhost:8080/",
          "height": 85
        }
      },
      "source": [
        "torch.mul(a, b)"
      ],
      "execution_count": 0,
      "outputs": [
        {
          "output_type": "execute_result",
          "data": {
            "text/plain": [
              "tensor([[ 0.2466, -0.5816,  0.4511,  0.2339],\n",
              "        [ 0.1807, -0.4261,  0.3305,  0.1714],\n",
              "        [ 0.2400, -0.5661,  0.4391,  0.2277],\n",
              "        [ 0.1014, -0.2392,  0.1856,  0.0962]])"
            ]
          },
          "metadata": {
            "tags": []
          },
          "execution_count": 18
        }
      ]
    },
    {
      "cell_type": "markdown",
      "metadata": {
        "id": "panLdHYeqT11",
        "colab_type": "text"
      },
      "source": [
        "as you can see we can multiply 2 matrices as well."
      ]
    },
    {
      "cell_type": "code",
      "metadata": {
        "id": "IkAGXkCfqT12",
        "colab_type": "code",
        "outputId": "fa93ccbc-f2d6-45e9-971a-8668b37bd94a",
        "colab": {
          "base_uri": "https://localhost:8080/",
          "height": 180
        }
      },
      "source": [
        "# Example 3 - breaking (to illustrate when it breaks)\n",
        "torch.mul(a,b,2)"
      ],
      "execution_count": 0,
      "outputs": [
        {
          "output_type": "error",
          "ename": "TypeError",
          "evalue": "ignored",
          "traceback": [
            "\u001b[0;31m---------------------------------------------------------------------------\u001b[0m",
            "\u001b[0;31mTypeError\u001b[0m                                 Traceback (most recent call last)",
            "\u001b[0;32m<ipython-input-19-f779c96cc5a0>\u001b[0m in \u001b[0;36m<module>\u001b[0;34m()\u001b[0m\n\u001b[1;32m      1\u001b[0m \u001b[0;31m# Example 3 - breaking (to illustrate when it breaks)\u001b[0m\u001b[0;34m\u001b[0m\u001b[0;34m\u001b[0m\u001b[0;34m\u001b[0m\u001b[0m\n\u001b[0;32m----> 2\u001b[0;31m \u001b[0mtorch\u001b[0m\u001b[0;34m.\u001b[0m\u001b[0mmul\u001b[0m\u001b[0;34m(\u001b[0m\u001b[0ma\u001b[0m\u001b[0;34m,\u001b[0m\u001b[0mb\u001b[0m\u001b[0;34m,\u001b[0m\u001b[0;36m2\u001b[0m\u001b[0;34m)\u001b[0m\u001b[0;34m\u001b[0m\u001b[0;34m\u001b[0m\u001b[0m\n\u001b[0m",
            "\u001b[0;31mTypeError\u001b[0m: mul() takes 2 positional arguments but 3 were given"
          ]
        }
      ]
    },
    {
      "cell_type": "markdown",
      "metadata": {
        "id": "kCHu2ejvqT19",
        "colab_type": "text"
      },
      "source": [
        "we can not input three arguments in the function.\n"
      ]
    },
    {
      "cell_type": "markdown",
      "metadata": {
        "id": "rcotmSizqT1-",
        "colab_type": "text"
      },
      "source": [
        "we should use this function only when we need to do scaller multiplication or in two matrices."
      ]
    },
    {
      "cell_type": "markdown",
      "metadata": {
        "id": "I80QQEYCqT1_",
        "colab_type": "text"
      },
      "source": [
        "## Function 3 - torch.arrange\n",
        "\n",
        "Returns a 1-D tensor of size end-start/step with values from the interval [start, end) taken with common difference step beginning from start."
      ]
    },
    {
      "cell_type": "code",
      "metadata": {
        "id": "JggqqaXuqT2B",
        "colab_type": "code",
        "outputId": "753dbe91-0c62-42a2-9e32-6d5c38bcda40",
        "colab": {
          "base_uri": "https://localhost:8080/",
          "height": 34
        }
      },
      "source": [
        "# Example 1 - working\n",
        "torch.arange(start=0,end=10,step=3)"
      ],
      "execution_count": 0,
      "outputs": [
        {
          "output_type": "execute_result",
          "data": {
            "text/plain": [
              "tensor([0, 3, 6, 9])"
            ]
          },
          "metadata": {
            "tags": []
          },
          "execution_count": 20
        }
      ]
    },
    {
      "cell_type": "markdown",
      "metadata": {
        "id": "nTzuZU_SqT2H",
        "colab_type": "text"
      },
      "source": [
        "We create a tensor using arange function where we give start to be 0 and end to be 10 wit step 3 . So the first value will be zero and later i+3,\n",
        "\n"
      ]
    },
    {
      "cell_type": "code",
      "metadata": {
        "id": "IUsJCah4qT2I",
        "colab_type": "code",
        "outputId": "c7811deb-5333-4741-f237-2e6ec538f714",
        "colab": {
          "base_uri": "https://localhost:8080/",
          "height": 34
        }
      },
      "source": [
        "# Example 2 - working\n",
        "torch.arange(1,1.6,0.2)"
      ],
      "execution_count": 0,
      "outputs": [
        {
          "output_type": "execute_result",
          "data": {
            "text/plain": [
              "tensor([1.0000, 1.2000, 1.4000, 1.6000])"
            ]
          },
          "metadata": {
            "tags": []
          },
          "execution_count": 21
        }
      ]
    },
    {
      "cell_type": "markdown",
      "metadata": {
        "id": "Ejg4WdX9qT2O",
        "colab_type": "text"
      },
      "source": [
        "We can also give it a float value and in return we get a list of tensors ."
      ]
    },
    {
      "cell_type": "code",
      "metadata": {
        "id": "8Uwnok2SqT2R",
        "colab_type": "code",
        "outputId": "3352872b-b3bf-4144-d20f-61a73620b4a4",
        "colab": {
          "base_uri": "https://localhost:8080/",
          "height": 180
        }
      },
      "source": [
        "# Example 3 - breaking (to illustrate when it breaks)\n",
        "torch.arange([1,2,3])"
      ],
      "execution_count": 0,
      "outputs": [
        {
          "output_type": "error",
          "ename": "TypeError",
          "evalue": "ignored",
          "traceback": [
            "\u001b[0;31m---------------------------------------------------------------------------\u001b[0m",
            "\u001b[0;31mTypeError\u001b[0m                                 Traceback (most recent call last)",
            "\u001b[0;32m<ipython-input-22-95f390618dd9>\u001b[0m in \u001b[0;36m<module>\u001b[0;34m()\u001b[0m\n\u001b[1;32m      1\u001b[0m \u001b[0;31m# Example 3 - breaking (to illustrate when it breaks)\u001b[0m\u001b[0;34m\u001b[0m\u001b[0;34m\u001b[0m\u001b[0;34m\u001b[0m\u001b[0m\n\u001b[0;32m----> 2\u001b[0;31m \u001b[0mtorch\u001b[0m\u001b[0;34m.\u001b[0m\u001b[0marange\u001b[0m\u001b[0;34m(\u001b[0m\u001b[0;34m[\u001b[0m\u001b[0;36m1\u001b[0m\u001b[0;34m,\u001b[0m\u001b[0;36m2\u001b[0m\u001b[0;34m,\u001b[0m\u001b[0;36m3\u001b[0m\u001b[0;34m]\u001b[0m\u001b[0;34m)\u001b[0m\u001b[0;34m\u001b[0m\u001b[0;34m\u001b[0m\u001b[0m\n\u001b[0m",
            "\u001b[0;31mTypeError\u001b[0m: arange(): argument 'end' (position 1) must be Number, not list"
          ]
        }
      ]
    },
    {
      "cell_type": "markdown",
      "metadata": {
        "id": "7lP8krwxqT2a",
        "colab_type": "text"
      },
      "source": [
        "We cannot pass list when creating a tensor using arange , it only accepts start , end and step\n",
        "\n"
      ]
    },
    {
      "cell_type": "markdown",
      "metadata": {
        "id": "IlplQpI8qT2b",
        "colab_type": "text"
      },
      "source": [
        "Use this function when you need a specific tensors values"
      ]
    },
    {
      "cell_type": "markdown",
      "metadata": {
        "id": "qdC_bb4cqT2d",
        "colab_type": "text"
      },
      "source": [
        "## Function 4 - torch.linspace\n",
        "\n",
        "Returns a one-dimensional tensor of steps equally spaced points between start and end.\n",
        "\n",
        "The output tensor is 1-D of size steps."
      ]
    },
    {
      "cell_type": "code",
      "metadata": {
        "id": "us7vwDfjqT2e",
        "colab_type": "code",
        "outputId": "ebafeb70-c3f0-4161-cca0-37de76ed1635",
        "colab": {
          "base_uri": "https://localhost:8080/",
          "height": 238
        }
      },
      "source": [
        "# Example 1 - working\n",
        "torch.linspace(10,1)"
      ],
      "execution_count": 0,
      "outputs": [
        {
          "output_type": "execute_result",
          "data": {
            "text/plain": [
              "tensor([10.0000,  9.9091,  9.8182,  9.7273,  9.6364,  9.5455,  9.4545,  9.3636,\n",
              "         9.2727,  9.1818,  9.0909,  9.0000,  8.9091,  8.8182,  8.7273,  8.6364,\n",
              "         8.5455,  8.4545,  8.3636,  8.2727,  8.1818,  8.0909,  8.0000,  7.9091,\n",
              "         7.8182,  7.7273,  7.6364,  7.5455,  7.4545,  7.3636,  7.2727,  7.1818,\n",
              "         7.0909,  7.0000,  6.9091,  6.8182,  6.7273,  6.6364,  6.5455,  6.4545,\n",
              "         6.3636,  6.2727,  6.1818,  6.0909,  6.0000,  5.9091,  5.8182,  5.7273,\n",
              "         5.6364,  5.5455,  5.4545,  5.3636,  5.2727,  5.1818,  5.0909,  5.0000,\n",
              "         4.9091,  4.8182,  4.7273,  4.6364,  4.5455,  4.4545,  4.3636,  4.2727,\n",
              "         4.1818,  4.0909,  4.0000,  3.9091,  3.8182,  3.7273,  3.6364,  3.5455,\n",
              "         3.4545,  3.3636,  3.2727,  3.1818,  3.0909,  3.0000,  2.9091,  2.8182,\n",
              "         2.7273,  2.6364,  2.5455,  2.4545,  2.3636,  2.2727,  2.1818,  2.0909,\n",
              "         2.0000,  1.9091,  1.8182,  1.7273,  1.6364,  1.5455,  1.4545,  1.3636,\n",
              "         1.2727,  1.1818,  1.0909,  1.0000])"
            ]
          },
          "metadata": {
            "tags": []
          },
          "execution_count": 23
        }
      ]
    },
    {
      "cell_type": "markdown",
      "metadata": {
        "id": "F1M372_oqT2l",
        "colab_type": "text"
      },
      "source": [
        "Create a random date start with 10 and end in 1"
      ]
    },
    {
      "cell_type": "code",
      "metadata": {
        "id": "pTMYmQLCqT2m",
        "colab_type": "code",
        "outputId": "499ea643-a738-42c5-f12f-5b78d8f4b6f2",
        "colab": {
          "base_uri": "https://localhost:8080/",
          "height": 34
        }
      },
      "source": [
        "# Example 2 - working\n",
        "torch.linspace(1,10,5)"
      ],
      "execution_count": 0,
      "outputs": [
        {
          "output_type": "execute_result",
          "data": {
            "text/plain": [
              "tensor([ 1.0000,  3.2500,  5.5000,  7.7500, 10.0000])"
            ]
          },
          "metadata": {
            "tags": []
          },
          "execution_count": 26
        }
      ]
    },
    {
      "cell_type": "markdown",
      "metadata": {
        "id": "_S0we76iqT2s",
        "colab_type": "text"
      },
      "source": [
        "From 1 to 10 get a 5 equally distributed datas"
      ]
    },
    {
      "cell_type": "code",
      "metadata": {
        "id": "vGaQ8nqUqT2t",
        "colab_type": "code",
        "outputId": "f4933fd7-a2c6-469f-a5a2-73b02429dd65",
        "colab": {
          "base_uri": "https://localhost:8080/",
          "height": 180
        }
      },
      "source": [
        "# Example 3 - breaking (to illustrate when it breaks)\n",
        "torch.linspace(10)"
      ],
      "execution_count": 0,
      "outputs": [
        {
          "output_type": "error",
          "ename": "TypeError",
          "evalue": "ignored",
          "traceback": [
            "\u001b[0;31m---------------------------------------------------------------------------\u001b[0m",
            "\u001b[0;31mTypeError\u001b[0m                                 Traceback (most recent call last)",
            "\u001b[0;32m<ipython-input-27-fb1e42df730f>\u001b[0m in \u001b[0;36m<module>\u001b[0;34m()\u001b[0m\n\u001b[1;32m      1\u001b[0m \u001b[0;31m# Example 3 - breaking (to illustrate when it breaks)\u001b[0m\u001b[0;34m\u001b[0m\u001b[0;34m\u001b[0m\u001b[0;34m\u001b[0m\u001b[0m\n\u001b[0;32m----> 2\u001b[0;31m \u001b[0mtorch\u001b[0m\u001b[0;34m.\u001b[0m\u001b[0mlinspace\u001b[0m\u001b[0;34m(\u001b[0m\u001b[0;36m10\u001b[0m\u001b[0;34m)\u001b[0m\u001b[0;34m\u001b[0m\u001b[0;34m\u001b[0m\u001b[0m\n\u001b[0m",
            "\u001b[0;31mTypeError\u001b[0m: linspace() missing 1 required positional arguments: \"end\""
          ]
        }
      ]
    },
    {
      "cell_type": "markdown",
      "metadata": {
        "id": "FSqhNMH3qT20",
        "colab_type": "text"
      },
      "source": [
        "the function needs two arguments as input"
      ]
    },
    {
      "cell_type": "markdown",
      "metadata": {
        "id": "SqVIJ7slqT21",
        "colab_type": "text"
      },
      "source": [
        "We should use this function to get random data points with start and end as default params"
      ]
    },
    {
      "cell_type": "markdown",
      "metadata": {
        "id": "v2Jz6aoRqT22",
        "colab_type": "text"
      },
      "source": [
        "## Function 5 - torch.mean\n",
        "\n",
        "The torch.mean function returns the mean or average of your tensor."
      ]
    },
    {
      "cell_type": "code",
      "metadata": {
        "id": "7934b78TqT24",
        "colab_type": "code",
        "outputId": "9b5384ca-ef73-4abc-aed0-ae4523fbbf5f",
        "colab": {
          "base_uri": "https://localhost:8080/",
          "height": 51
        }
      },
      "source": [
        "# Example 1 - working\n",
        "x = torch.randn(4)\n",
        "print(x)\n",
        "torch.mean(x)"
      ],
      "execution_count": 0,
      "outputs": [
        {
          "output_type": "stream",
          "text": [
            "tensor([-1.7821, -0.2879, -0.2051, -0.2975])\n"
          ],
          "name": "stdout"
        },
        {
          "output_type": "execute_result",
          "data": {
            "text/plain": [
              "tensor(-0.6431)"
            ]
          },
          "metadata": {
            "tags": []
          },
          "execution_count": 30
        }
      ]
    },
    {
      "cell_type": "markdown",
      "metadata": {
        "id": "9epeiKNsqT2_",
        "colab_type": "text"
      },
      "source": [
        "We can see in this example the torch.mean function is applied to a tensor vector which is just adding all the numbers and dividing by the count."
      ]
    },
    {
      "cell_type": "code",
      "metadata": {
        "id": "Yi_fWE86qT3A",
        "colab_type": "code",
        "outputId": "64b88fb8-6b71-49a5-dd52-de0bd94f21d7",
        "colab": {
          "base_uri": "https://localhost:8080/",
          "height": 85
        }
      },
      "source": [
        "# Example 2 - working\n",
        "x = torch.randn((3,4))\n",
        "print(x)\n",
        "torch.mean(x, dim=0)"
      ],
      "execution_count": 0,
      "outputs": [
        {
          "output_type": "stream",
          "text": [
            "tensor([[ 1.1210,  1.1721, -1.4537, -0.1289],\n",
            "        [ 1.0589, -1.1667, -0.2002, -1.2073],\n",
            "        [-0.9118, -0.0111, -0.4785,  1.3947]])\n"
          ],
          "name": "stdout"
        },
        {
          "output_type": "execute_result",
          "data": {
            "text/plain": [
              "tensor([ 0.4227, -0.0019, -0.7108,  0.0195])"
            ]
          },
          "metadata": {
            "tags": []
          },
          "execution_count": 31
        }
      ]
    },
    {
      "cell_type": "markdown",
      "metadata": {
        "id": "Gy1V4eq6qT3K",
        "colab_type": "text"
      },
      "source": [
        "We can see in this example the torch.mean function is applied to a (3, 4) matrix except the dim parameter is set to 0. This is specifying that we want the average over all rows (for each column). We can set dim to 1 if we want the average over all columns (for each row)."
      ]
    },
    {
      "cell_type": "code",
      "metadata": {
        "id": "maLMF-lJqT3L",
        "colab_type": "code",
        "outputId": "51a53c69-786c-4a71-d04d-defb62864b76",
        "colab": {
          "base_uri": "https://localhost:8080/",
          "height": 197
        }
      },
      "source": [
        "# Example 3 - breaking (to illustrate when it breaks)\n",
        "x = torch.tensor([0,1,0,1,0],dtype=torch.bool)\n",
        "torch.mean(x)"
      ],
      "execution_count": 0,
      "outputs": [
        {
          "output_type": "error",
          "ename": "RuntimeError",
          "evalue": "ignored",
          "traceback": [
            "\u001b[0;31m---------------------------------------------------------------------------\u001b[0m",
            "\u001b[0;31mRuntimeError\u001b[0m                              Traceback (most recent call last)",
            "\u001b[0;32m<ipython-input-32-257b720ae7eb>\u001b[0m in \u001b[0;36m<module>\u001b[0;34m()\u001b[0m\n\u001b[1;32m      1\u001b[0m \u001b[0;31m# Example 3 - breaking (to illustrate when it breaks)\u001b[0m\u001b[0;34m\u001b[0m\u001b[0;34m\u001b[0m\u001b[0;34m\u001b[0m\u001b[0m\n\u001b[1;32m      2\u001b[0m \u001b[0mx\u001b[0m \u001b[0;34m=\u001b[0m \u001b[0mtorch\u001b[0m\u001b[0;34m.\u001b[0m\u001b[0mtensor\u001b[0m\u001b[0;34m(\u001b[0m\u001b[0;34m[\u001b[0m\u001b[0;36m0\u001b[0m\u001b[0;34m,\u001b[0m\u001b[0;36m1\u001b[0m\u001b[0;34m,\u001b[0m\u001b[0;36m0\u001b[0m\u001b[0;34m,\u001b[0m\u001b[0;36m1\u001b[0m\u001b[0;34m,\u001b[0m\u001b[0;36m0\u001b[0m\u001b[0;34m]\u001b[0m\u001b[0;34m,\u001b[0m\u001b[0mdtype\u001b[0m\u001b[0;34m=\u001b[0m\u001b[0mtorch\u001b[0m\u001b[0;34m.\u001b[0m\u001b[0mbool\u001b[0m\u001b[0;34m)\u001b[0m\u001b[0;34m\u001b[0m\u001b[0;34m\u001b[0m\u001b[0m\n\u001b[0;32m----> 3\u001b[0;31m \u001b[0mtorch\u001b[0m\u001b[0;34m.\u001b[0m\u001b[0mmean\u001b[0m\u001b[0;34m(\u001b[0m\u001b[0mx\u001b[0m\u001b[0;34m)\u001b[0m\u001b[0;34m\u001b[0m\u001b[0;34m\u001b[0m\u001b[0m\n\u001b[0m",
            "\u001b[0;31mRuntimeError\u001b[0m: Can only calculate the mean of floating types. Got Bool instead."
          ]
        }
      ]
    },
    {
      "cell_type": "markdown",
      "metadata": {
        "id": "MpU5_HmBqT3R",
        "colab_type": "text"
      },
      "source": [
        "In this example, our tensor x is a boolean data type which is a (0, 1) or (False, True) data type. Applying the mean function to this boolean tensor results in a RuntimeError because you cannot get the mean or average of boolean data types. That is why the RunetimeError says it can only calculate the mean of floating types."
      ]
    },
    {
      "cell_type": "markdown",
      "metadata": {
        "id": "WcL4LybEqT3S",
        "colab_type": "text"
      },
      "source": [
        "This function should be used when you need to obtain the mean of your tensor, you can also specify which dimension to calculate the mean.\n",
        "\n"
      ]
    },
    {
      "cell_type": "markdown",
      "metadata": {
        "id": "S4vLNfHoqT3T",
        "colab_type": "text"
      },
      "source": [
        "## Conclusion\n",
        "\n",
        "Summarize what was covered in this notebook, and where to go next"
      ]
    },
    {
      "cell_type": "markdown",
      "metadata": {
        "id": "gZxHNAv2qT3U",
        "colab_type": "text"
      },
      "source": [
        "## Reference Links\n",
        "Provide links to your references and other interesting articles about tensors\n",
        "* Official documentation for `torch.Tensor`: https://pytorch.org/docs/stable/tensors.html\n",
        "* ..."
      ]
    },
    {
      "cell_type": "code",
      "metadata": {
        "id": "JSyzkEBeqT3V",
        "colab_type": "code",
        "outputId": "20f6a362-3c25-41b3-d1aa-7dc862c90ffa",
        "colab": {
          "base_uri": "https://localhost:8080/",
          "height": 51
        }
      },
      "source": [
        "!pip install jovian --upgrade --quiet"
      ],
      "execution_count": 0,
      "outputs": [
        {
          "output_type": "stream",
          "text": [
            "\u001b[?25l\r\u001b[K     |████                            | 10kB 23.8MB/s eta 0:00:01\r\u001b[K     |███████▉                        | 20kB 4.7MB/s eta 0:00:01\r\u001b[K     |███████████▉                    | 30kB 6.7MB/s eta 0:00:01\r\u001b[K     |███████████████▊                | 40kB 5.0MB/s eta 0:00:01\r\u001b[K     |███████████████████▋            | 51kB 6.0MB/s eta 0:00:01\r\u001b[K     |███████████████████████▋        | 61kB 7.1MB/s eta 0:00:01\r\u001b[K     |███████████████████████████▌    | 71kB 8.0MB/s eta 0:00:01\r\u001b[K     |███████████████████████████████▍| 81kB 9.0MB/s eta 0:00:01\r\u001b[K     |████████████████████████████████| 92kB 5.9MB/s \n",
            "\u001b[?25h  Building wheel for uuid (setup.py) ... \u001b[?25l\u001b[?25hdone\n"
          ],
          "name": "stdout"
        }
      ]
    },
    {
      "cell_type": "code",
      "metadata": {
        "id": "PSSGNGdpqT3b",
        "colab_type": "code",
        "colab": {}
      },
      "source": [
        "import jovian"
      ],
      "execution_count": 0,
      "outputs": []
    },
    {
      "cell_type": "code",
      "metadata": {
        "id": "2vdBJ3eEqT3h",
        "colab_type": "code",
        "outputId": "bdd2d864-3c5a-4852-fae5-5ed693064e49",
        "colab": {
          "base_uri": "https://localhost:8080/",
          "height": 34
        }
      },
      "source": [
        "jovian.commit()"
      ],
      "execution_count": 0,
      "outputs": [
        {
          "output_type": "stream",
          "text": [
            "\u001b[31m[jovian] Error: Failed to detect Jupyter notebook or Python script. Skipping..\u001b[0m\n"
          ],
          "name": "stderr"
        }
      ]
    },
    {
      "cell_type": "code",
      "metadata": {
        "id": "XdrQPa5fqT3o",
        "colab_type": "code",
        "colab": {}
      },
      "source": [
        ""
      ],
      "execution_count": 0,
      "outputs": []
    }
  ]
}